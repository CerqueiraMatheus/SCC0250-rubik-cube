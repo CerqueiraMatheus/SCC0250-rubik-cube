{
 "cells": [
  {
   "cell_type": "code",
   "execution_count": 1,
   "metadata": {},
   "outputs": [],
   "source": [
    "import glfw\n",
    "from OpenGL.GL import *\n",
    "import OpenGL.GL.shaders\n",
    "import numpy as np\n",
    "from helper import *"
   ]
  },
  {
   "cell_type": "markdown",
   "metadata": {},
   "source": [
    "### Inicializando janela"
   ]
  },
  {
   "cell_type": "code",
   "execution_count": 2,
   "metadata": {},
   "outputs": [],
   "source": [
    "glfw.init()\n",
    "glfw.window_hint(glfw.VISIBLE, glfw.FALSE);\n",
    "window = glfw.create_window(700, 700, \"Cubo\", None, None)\n",
    "glfw.make_context_current(window)"
   ]
  },
  {
   "cell_type": "code",
   "execution_count": 3,
   "metadata": {},
   "outputs": [],
   "source": [
    "vertex_code = \"\"\"\n",
    "        attribute vec3 position;\n",
    "        uniform mat4 mat_transformation;\n",
    "        void main(){\n",
    "            gl_Position = mat_transformation * vec4(position,1.0);\n",
    "        }\n",
    "        \"\"\""
   ]
  },
  {
   "cell_type": "code",
   "execution_count": 4,
   "metadata": {},
   "outputs": [],
   "source": [
    "fragment_code = \"\"\"\n",
    "        uniform vec4 color;\n",
    "        void main(){\n",
    "            gl_FragColor = color;\n",
    "        }\n",
    "        \"\"\""
   ]
  },
  {
   "cell_type": "markdown",
   "metadata": {},
   "source": [
    "### Requisitando slot para a GPU para nossos programas *Vertex* e *Fragment Shaders*"
   ]
  },
  {
   "cell_type": "code",
   "execution_count": 5,
   "metadata": {},
   "outputs": [],
   "source": [
    "# Request a program and shader slots from GPU\n",
    "program  = glCreateProgram()\n",
    "vertex   = glCreateShader(GL_VERTEX_SHADER)\n",
    "fragment = glCreateShader(GL_FRAGMENT_SHADER)"
   ]
  },
  {
   "cell_type": "markdown",
   "metadata": {},
   "source": [
    "### Associando nosso código-fonte aos slots solicitados"
   ]
  },
  {
   "cell_type": "code",
   "execution_count": 6,
   "metadata": {},
   "outputs": [],
   "source": [
    "# Set shaders source\n",
    "glShaderSource(vertex, vertex_code)\n",
    "glShaderSource(fragment, fragment_code)"
   ]
  },
  {
   "cell_type": "markdown",
   "metadata": {},
   "source": [
    "### Compilando o *Vertex Shader*\n",
    "Se há algum erro em nosso programa *Vertex Shader*, nosso app para por aqui."
   ]
  },
  {
   "cell_type": "code",
   "execution_count": 7,
   "metadata": {},
   "outputs": [],
   "source": [
    "# Compile shaders\n",
    "glCompileShader(vertex)\n",
    "if not glGetShaderiv(vertex, GL_COMPILE_STATUS):\n",
    "    error = glGetShaderInfoLog(vertex).decode()\n",
    "    print(error)\n",
    "    raise RuntimeError(\"Erro de compilacao do Vertex Shader\")"
   ]
  },
  {
   "cell_type": "code",
   "execution_count": 8,
   "metadata": {},
   "outputs": [],
   "source": [
    "glCompileShader(fragment)\n",
    "if not glGetShaderiv(fragment, GL_COMPILE_STATUS):\n",
    "    error = glGetShaderInfoLog(fragment).decode()\n",
    "    print(error)\n",
    "    raise RuntimeError(\"Erro de compilacao do Fragment Shader\")"
   ]
  },
  {
   "cell_type": "code",
   "execution_count": 9,
   "metadata": {},
   "outputs": [],
   "source": [
    "# Attach shader objects to the program\n",
    "glAttachShader(program, vertex)\n",
    "glAttachShader(program, fragment)"
   ]
  },
  {
   "cell_type": "code",
   "execution_count": 10,
   "metadata": {},
   "outputs": [],
   "source": [
    "# Build program\n",
    "glLinkProgram(program)\n",
    "if not glGetProgramiv(program, GL_LINK_STATUS):\n",
    "    print(glGetProgramInfoLog(program))\n",
    "    raise RuntimeError('Linking error')\n",
    "    \n",
    "# Make program the default program\n",
    "glUseProgram(program)"
   ]
  },
  {
   "cell_type": "code",
   "execution_count": 11,
   "metadata": {},
   "outputs": [
    {
     "name": "stdout",
     "output_type": "stream",
     "text": [
      "24\n",
      "48\n",
      "72\n",
      "96\n",
      "120\n",
      "144\n",
      "168\n",
      "192\n",
      "216\n",
      "240\n",
      "264\n",
      "288\n",
      "312\n",
      "336\n",
      "360\n",
      "384\n",
      "408\n",
      "432\n",
      "456\n",
      "480\n",
      "504\n",
      "528\n",
      "552\n",
      "576\n",
      "600\n",
      "624\n",
      "648\n",
      "672\n",
      "696\n",
      "720\n",
      "744\n",
      "768\n",
      "792\n",
      "816\n",
      "840\n",
      "864\n",
      "888\n",
      "912\n",
      "936\n",
      "960\n",
      "984\n",
      "1008\n",
      "1032\n",
      "1056\n",
      "1080\n",
      "1104\n",
      "1128\n",
      "1152\n",
      "1176\n",
      "1200\n",
      "1224\n",
      "1248\n",
      "1272\n",
      "1296\n"
     ]
    }
   ],
   "source": [
    "cubes = []\n",
    "\n",
    "offset = 0\n",
    "\n",
    "for face in range(6):\n",
    "    face = []\n",
    "    for row in range(3):\n",
    "        row = []\n",
    "        for cube in range(3):\n",
    "            row.append(offset)\n",
    "            offset = offset + 24\n",
    "            print(offset)\n",
    "        face.append(row)\n",
    "    cubes.append(face)\n",
    "\n",
    "\n",
    "cube = Cube(cubes)"
   ]
  },
  {
   "cell_type": "markdown",
   "metadata": {},
   "source": [
    "# Modelagem do cubo"
   ]
  },
  {
   "cell_type": "code",
   "execution_count": 12,
   "metadata": {},
   "outputs": [],
   "source": [
    "vertices_list = []\n",
    "\n",
    "corner = get_corner_pieces()\n",
    "center = get_center_pieces()\n",
    "edge = get_edge_pieces()\n",
    "\n",
    "# Face Cima\n",
    "vertices_list.extend(corner[1])\n",
    "vertices_list.extend(edge[0][1])\n",
    "vertices_list.extend(corner[2])\n",
    "\n",
    "vertices_list.extend(edge[2][1])\n",
    "vertices_list.extend(center[4])\n",
    "vertices_list.extend(edge[2][2])\n",
    "\n",
    "vertices_list.extend(corner[5])\n",
    "vertices_list.extend(edge[0][2])\n",
    "vertices_list.extend(corner[6])\n",
    "\n",
    "# Face Frente\n",
    "vertices_list.extend(corner[1])\n",
    "vertices_list.extend(edge[0][1])\n",
    "vertices_list.extend(corner[2])\n",
    "\n",
    "vertices_list.extend(edge[1][0])\n",
    "vertices_list.extend(center[0])\n",
    "vertices_list.extend(edge[1][3])\n",
    "\n",
    "vertices_list.extend(corner[0])\n",
    "vertices_list.extend(edge[0][0])\n",
    "vertices_list.extend(corner[3])\n",
    "\n",
    "# Face Direita\n",
    "vertices_list.extend(corner[2])\n",
    "vertices_list.extend(edge[2][2])\n",
    "vertices_list.extend(corner[6])\n",
    "\n",
    "vertices_list.extend(edge[1][3])\n",
    "vertices_list.extend(center[3])\n",
    "vertices_list.extend(edge[1][2])\n",
    "\n",
    "vertices_list.extend(corner[3])\n",
    "vertices_list.extend(edge[2][3])\n",
    "vertices_list.extend(corner[7])\n",
    "\n",
    "# Face Trás\n",
    "vertices_list.extend(corner[5])\n",
    "vertices_list.extend(edge[0][2])\n",
    "vertices_list.extend(corner[6])\n",
    "\n",
    "vertices_list.extend(edge[1][1])\n",
    "vertices_list.extend(center[2])\n",
    "vertices_list.extend(edge[1][2])\n",
    "\n",
    "vertices_list.extend(corner[4])\n",
    "vertices_list.extend(edge[0][3])\n",
    "vertices_list.extend(corner[7])\n",
    "\n",
    "# Face Esquerda\n",
    "vertices_list.extend(corner[1])\n",
    "vertices_list.extend(edge[2][1])\n",
    "vertices_list.extend(corner[5])\n",
    "\n",
    "vertices_list.extend(edge[1][0])\n",
    "vertices_list.extend(center[1])\n",
    "vertices_list.extend(edge[1][1])\n",
    "\n",
    "vertices_list.extend(corner[0])\n",
    "vertices_list.extend(edge[2][0])\n",
    "vertices_list.extend(corner[4])\n",
    "\n",
    "# Face Baixo\n",
    "vertices_list.extend(corner[0])\n",
    "vertices_list.extend(edge[0][0])\n",
    "vertices_list.extend(corner[3])\n",
    "\n",
    "vertices_list.extend(edge[2][0])\n",
    "vertices_list.extend(center[5])\n",
    "vertices_list.extend(edge[2][3])\n",
    "\n",
    "vertices_list.extend(corner[4])\n",
    "vertices_list.extend(edge[0][3])\n",
    "vertices_list.extend(corner[7])"
   ]
  },
  {
   "cell_type": "code",
   "execution_count": 13,
   "metadata": {},
   "outputs": [],
   "source": [
    "total_vertices = len(vertices_list)\n",
    "vertices = np.zeros(total_vertices, [(\"position\", np.float32, 3)])\n",
    "vertices['position'] = np.array(vertices_list)"
   ]
  },
  {
   "cell_type": "markdown",
   "metadata": {},
   "source": [
    "### Para enviar nossos dados da CPU para a GPU, precisamos requisitar um slot"
   ]
  },
  {
   "cell_type": "code",
   "execution_count": 14,
   "metadata": {},
   "outputs": [],
   "source": [
    "# Request a buffer slot from GPU\n",
    "buffer = glGenBuffers(1)\n",
    "# Make this buffer the default one\n",
    "glBindBuffer(GL_ARRAY_BUFFER, buffer)"
   ]
  },
  {
   "cell_type": "markdown",
   "metadata": {},
   "source": [
    "### Abaixo, enviamos todo o conteúdo da variável `vertices`\n",
    "Veja os parâmetros da função `glBufferData` [https://www.khronos.org/registry/OpenGL-Refpages/gl4/html/glBufferData.xhtml]"
   ]
  },
  {
   "cell_type": "code",
   "execution_count": 15,
   "metadata": {},
   "outputs": [],
   "source": [
    "# Upload data\n",
    "glBufferData(GL_ARRAY_BUFFER, vertices.nbytes, vertices, GL_DYNAMIC_DRAW)\n",
    "glBindBuffer(GL_ARRAY_BUFFER, buffer)"
   ]
  },
  {
   "cell_type": "markdown",
   "metadata": {},
   "source": [
    "### Associando variáveis do programa `GLSL` (*Vertex Shaders*) com nossos dados\n",
    "Primeiro, definimos o byte inicial e o offset dos dados."
   ]
  },
  {
   "cell_type": "code",
   "execution_count": 16,
   "metadata": {},
   "outputs": [],
   "source": [
    "# Bind the position attribute\n",
    "# --------------------------------------\n",
    "stride = vertices.strides[0]\n",
    "offset = ctypes.c_void_p(0)"
   ]
  },
  {
   "cell_type": "markdown",
   "metadata": {},
   "source": [
    "Em seguida, soliciamos à GPU a localização da variável `position` (que guarda coordenadas dos nossos vértices). Definimos essa variável no *Vertex Shader*."
   ]
  },
  {
   "cell_type": "code",
   "execution_count": 17,
   "metadata": {},
   "outputs": [],
   "source": [
    "loc = glGetAttribLocation(program, \"position\")\n",
    "glEnableVertexAttribArray(loc)"
   ]
  },
  {
   "cell_type": "code",
   "execution_count": 18,
   "metadata": {},
   "outputs": [],
   "source": [
    "glVertexAttribPointer(loc, 3, GL_FLOAT, False, stride, offset)"
   ]
  },
  {
   "cell_type": "markdown",
   "metadata": {},
   "source": [
    "###  Pegamos a localização da variável `color` (`uniform`) do *Fragment Shader* para que possamos alterá-la em nosso laço da janela."
   ]
  },
  {
   "cell_type": "code",
   "execution_count": 19,
   "metadata": {},
   "outputs": [],
   "source": [
    "loc_color = glGetUniformLocation(program, \"color\")"
   ]
  },
  {
   "cell_type": "markdown",
   "metadata": {},
   "source": [
    "### Nesse momento, exibimos a janela."
   ]
  },
  {
   "cell_type": "code",
   "execution_count": 20,
   "metadata": {},
   "outputs": [],
   "source": [
    "glfw.show_window(window)"
   ]
  },
  {
   "cell_type": "markdown",
   "metadata": {},
   "source": [
    "### Loop principal da janela.\n",
    "Enquanto a janela não for fechada, esse laço será executado. É neste espaço que trabalhamos com algumas interações com a `OpenGL`.\n",
    "\n",
    "Usaremos o `GL_TRIANGLE_STRIP` e modelaremos uma face do Cubo por vez, por questões didáticas. Iremos colorir cada face do Cubo com uma cor diferente."
   ]
  },
  {
   "cell_type": "code",
   "execution_count": 21,
   "metadata": {},
   "outputs": [],
   "source": [
    "from numpy import random\n",
    "import math\n",
    "d = 0.0\n",
    "glEnable(GL_DEPTH_TEST)  # importante para 3D\n",
    "\n",
    "\n",
    "def multiplica_matriz(a, b):\n",
    "    m_a = a.reshape(4, 4)\n",
    "    m_b = b.reshape(4, 4)\n",
    "    m_c = np.dot(m_a, m_b)\n",
    "    c = m_c.reshape(1, 16)\n",
    "    return c\n",
    "\n",
    "\n",
    "while not glfw.window_should_close(window):\n",
    "\n",
    "    glfw.poll_events()\n",
    "\n",
    "    # apenas para visualizarmos a esfera rotacionando\n",
    "    d -= 0.005  # modifica o angulo de rotacao em cada iteracao\n",
    "    cos_d = math.cos(d)\n",
    "    sin_d = math.sin(d)\n",
    "\n",
    "    glClear(GL_COLOR_BUFFER_BIT | GL_DEPTH_BUFFER_BIT)\n",
    "\n",
    "    glClearColor(0.1, 0.1, 0.1, 1.0)\n",
    "\n",
    "    mat_rotation_z = np.array([cos_d, -sin_d, 0.0, 0.0,\n",
    "                               sin_d,  cos_d, 0.0, 0.0,\n",
    "                               0.0,      0.0, 1.0, 0.0,\n",
    "                               0.0,      0.0, 0.0, 1.0], np.float32)\n",
    "\n",
    "    mat_rotation_x = np.array([1.0,   0.0,    0.0, 0.0,\n",
    "                               0.0, cos_d, -sin_d, 0.0,\n",
    "                               0.0, sin_d,  cos_d, 0.0,\n",
    "                               0.0,   0.0,    0.0, 1.0], np.float32)\n",
    "\n",
    "    mat_rotation_y = np.array([cos_d,  0.0, sin_d, 0.0,\n",
    "                               0.0,    1.0,   0.0, 0.0,\n",
    "                               -sin_d, 0.0, cos_d, 0.0,\n",
    "                               0.0,    0.0,   0.0, 1.0], np.float32)\n",
    "\n",
    "    mat_transform2 = multiplica_matriz(mat_rotation_z, mat_rotation_x)\n",
    "    mat_transform1 = multiplica_matriz(mat_rotation_y, mat_transform2)\n",
    "    mat_transform = np.array([1,  0.0, 0, 0.0,\n",
    "                              0.0,    1.0,   0.0, 0.0,\n",
    "                              0, 0.0, 1, 0.0,\n",
    "                              0.0,    0.0,   0.0, 1.0], np.float32)\n",
    "\n",
    "    cube_index = 0\n",
    "\n",
    "    loc = glGetUniformLocation(program, \"mat_transformation\")\n",
    "    glUniformMatrix4fv(loc, 1, GL_TRUE, mat_transform1)\n",
    "\n",
    "    move = []\n",
    "\n",
    "    for row in cube.cubes[0]:\n",
    "        for c in row:\n",
    "            move.append(c)\n",
    "\n",
    "    draw = []\n",
    "\n",
    "    i = 0\n",
    "    for color, surface in zip(get_cube_colors(), cube.cubes[:6]):\n",
    "        for rows in surface:\n",
    "            for cub in rows:\n",
    "                if cub not in move:\n",
    "                    if (i == 0):\n",
    "                        glUniform4f(loc_color, color[0], color[1], color[2], 1)\n",
    "                        glDrawArrays(GL_TRIANGLE_STRIP, cub + 20, 4)\n",
    "                        draw.append((cub, 20))\n",
    "\n",
    "                    elif (i == 1):\n",
    "                        glUniform4f(loc_color, color[0], color[1], color[2], 1)\n",
    "                        glDrawArrays(GL_TRIANGLE_STRIP, cub, 4)\n",
    "                        draw.append((cub, 0))\n",
    "\n",
    "                    elif (i == 2):\n",
    "                        glUniform4f(loc_color, color[0], color[1], color[2], 1)\n",
    "                        glDrawArrays(GL_TRIANGLE_STRIP, cub + 12, 4)\n",
    "                        draw.append((cub, 12))\n",
    "\n",
    "                    elif (i == 3):\n",
    "                        glUniform4f(loc_color, color[0], color[1], color[2], 1)\n",
    "                        glDrawArrays(GL_TRIANGLE_STRIP, cub + 8, 4)\n",
    "                        draw.append((cub, 8))\n",
    "\n",
    "                    elif (i == 4):\n",
    "                        glUniform4f(loc_color, color[0], color[1], color[2], 1)\n",
    "                        glDrawArrays(GL_TRIANGLE_STRIP, cub + 4, 4)\n",
    "                        draw.append((cub, 4))\n",
    "\n",
    "                    elif (i == 5):\n",
    "                        glUniform4f(loc_color, color[0], color[1], color[2], 1)\n",
    "                        glDrawArrays(GL_TRIANGLE_STRIP, cub + 16, 4)\n",
    "                        draw.append((cub, 16))\n",
    "\n",
    "        i = i + 1\n",
    "\n",
    "    for surface in cube.cubes:\n",
    "        for rows in surface:\n",
    "            for cub in rows:\n",
    "                for offset in [0, 4, 8, 12, 16, 20]:\n",
    "                    if (cub, offset) not in draw and cub not in move:\n",
    "                        glUniform4f(loc_color, 0, 0, 0, 1)\n",
    "                        glDrawArrays(GL_TRIANGLE_STRIP, cub + offset, 4)\n",
    "\n",
    "    glUniformMatrix4fv(loc, 1, GL_TRUE, mat_transform2)\n",
    "\n",
    "    i = 0\n",
    "    for color, surface in zip(get_cube_colors(), cube.cubes):\n",
    "        for rows in surface:\n",
    "            for cub in rows:\n",
    "                if cub in move:\n",
    "\n",
    "                    if (i == 0):\n",
    "                        glUniform4f(loc_color, color[0], color[1], color[2], 1)\n",
    "                        glDrawArrays(GL_TRIANGLE_STRIP, cub + 20, 4)\n",
    "                        draw.append((cub, 20))\n",
    "\n",
    "                    elif (i == 1):\n",
    "                        glUniform4f(loc_color, color[0], color[1], color[2], 1)\n",
    "                        glDrawArrays(GL_TRIANGLE_STRIP, cub, 4)\n",
    "                        draw.append((cub, 0))\n",
    "\n",
    "                    elif (i == 2):\n",
    "                        glUniform4f(loc_color, color[0], color[1], color[2], 1)\n",
    "                        glDrawArrays(GL_TRIANGLE_STRIP, cub + 12, 4)\n",
    "                        draw.append((cub, 12))\n",
    "\n",
    "                    elif (i == 3):\n",
    "                        glUniform4f(loc_color, color[0], color[1], color[2], 1)\n",
    "                        glDrawArrays(GL_TRIANGLE_STRIP, cub + 8, 4)\n",
    "                        draw.append((cub, 8))\n",
    "\n",
    "                    elif (i == 4):\n",
    "                        glUniform4f(loc_color, color[0], color[1], color[2], 1)\n",
    "                        glDrawArrays(GL_TRIANGLE_STRIP, cub + 4, 4)\n",
    "                        draw.append((cub, 4))\n",
    "\n",
    "                    elif (i == 5):\n",
    "                        glUniform4f(loc_color, color[0], color[1], color[2], 1)\n",
    "                        glDrawArrays(GL_TRIANGLE_STRIP, cub + 16, 4)\n",
    "                        draw.append((cub, 16))\n",
    "\n",
    "        i = i + 1\n",
    "\n",
    "        for surface in cube.cubes:\n",
    "            for rows in surface:\n",
    "                for cub in rows:\n",
    "                    for offset in [0, 4, 8, 12, 16, 20]:\n",
    "                        if (cub, offset) not in draw and cub in move:\n",
    "                            glUniform4f(loc_color, 0, 0, 0, 1)\n",
    "                            glDrawArrays(GL_TRIANGLE_STRIP, cub + offset, 4)\n",
    "\n",
    "    glfw.swap_buffers(window)\n",
    "\n",
    "glfw.terminate()\n"
   ]
  },
  {
   "cell_type": "markdown",
   "metadata": {},
   "source": [
    "# Exercício\n",
    "Modifique esse código para aplicar outras transformações (de sua escolha) conforme eventos do teclado."
   ]
  }
 ],
 "metadata": {
  "finalized": {
   "timestamp": 1583114796072,
   "trusted": true
  },
  "kernelspec": {
   "display_name": "Python 3 (ipykernel)",
   "language": "python",
   "name": "python3"
  },
  "language_info": {
   "codemirror_mode": {
    "name": "ipython",
    "version": 3
   },
   "file_extension": ".py",
   "mimetype": "text/x-python",
   "name": "python",
   "nbconvert_exporter": "python",
   "pygments_lexer": "ipython3",
   "version": "3.9.7"
  }
 },
 "nbformat": 4,
 "nbformat_minor": 2
}
