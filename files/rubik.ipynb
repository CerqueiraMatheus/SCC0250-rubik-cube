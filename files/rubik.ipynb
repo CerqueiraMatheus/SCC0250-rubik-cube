{
 "cells": [
  {
   "attachments": {},
   "cell_type": "markdown",
   "metadata": {},
   "source": [
    "# **Cubo mágico**\n",
    "\n",
    "> Projeto de um cubo mágico utilizando OpenGL e GLFW para a disciplina de Computação Gráfica (SCC0250).\n",
    "\n",
    "| Estudante \t                | NUSP      |\n",
    "|-------------------------------|:---------:|\n",
    "| Gabriel                       |           |\n",
    "| Italo     \t                |      \t    |\n",
    "| João       \t                |      \t    |\n",
    "| Lucas     \t                |      \t    |\n",
    "| Matheus Henrique de C. Pinto  | 11911104  |"
   ]
  },
  {
   "attachments": {},
   "cell_type": "markdown",
   "metadata": {},
   "source": [
    "---"
   ]
  },
  {
   "cell_type": "markdown",
   "metadata": {},
   "source": [
    "# 1. Preparação do ambiente"
   ]
  },
  {
   "cell_type": "code",
   "execution_count": 1,
   "metadata": {},
   "outputs": [],
   "source": [
    "# Bibliotecas padrão\n",
    "import glfw\n",
    "import numpy as np\n",
    "from OpenGL.GL import *\n",
    "import OpenGL.GL.shaders\n",
    "\n",
    "# Custom implementation\n",
    "from helper import *"
   ]
  },
  {
   "attachments": {},
   "cell_type": "markdown",
   "metadata": {},
   "source": [
    "# 2. Configuração da janela e shaders"
   ]
  },
  {
   "attachments": {},
   "cell_type": "markdown",
   "metadata": {},
   "source": [
    "## 2.1 Janela"
   ]
  },
  {
   "cell_type": "code",
   "execution_count": 2,
   "metadata": {},
   "outputs": [],
   "source": [
    "glfw.init()\n",
    "glfw.window_hint(glfw.VISIBLE, glfw.FALSE);\n",
    "window = glfw.create_window(800, 800, \"Cubo\", None, None)\n",
    "glfw.make_context_current(window)"
   ]
  },
  {
   "attachments": {},
   "cell_type": "markdown",
   "metadata": {},
   "source": [
    "## 2.2 Shaders"
   ]
  },
  {
   "cell_type": "code",
   "execution_count": 3,
   "metadata": {},
   "outputs": [],
   "source": [
    "# Vertex shader\n",
    "vertex_code = \"\"\"\n",
    "        attribute vec3 position;\n",
    "        uniform mat4 mat_transformation;\n",
    "        void main(){\n",
    "            gl_Position = mat_transformation * vec4(position,1.0);\n",
    "        }\n",
    "        \"\"\""
   ]
  },
  {
   "cell_type": "code",
   "execution_count": 4,
   "metadata": {},
   "outputs": [],
   "source": [
    "# Fragment shader\n",
    "fragment_code = \"\"\"\n",
    "        uniform vec4 color;\n",
    "        void main(){\n",
    "            gl_FragColor = color;\n",
    "        }\n",
    "        \"\"\""
   ]
  },
  {
   "attachments": {},
   "cell_type": "markdown",
   "metadata": {},
   "source": [
    "# 3. Preparação do programa"
   ]
  },
  {
   "cell_type": "code",
   "execution_count": 5,
   "metadata": {},
   "outputs": [],
   "source": [
    "# Request a program and shader slots from GPU\n",
    "program  = glCreateProgram()\n",
    "vertex   = glCreateShader(GL_VERTEX_SHADER)\n",
    "fragment = glCreateShader(GL_FRAGMENT_SHADER)"
   ]
  },
  {
   "cell_type": "code",
   "execution_count": 6,
   "metadata": {},
   "outputs": [],
   "source": [
    "# Set shaders source\n",
    "glShaderSource(vertex, vertex_code)\n",
    "glShaderSource(fragment, fragment_code)"
   ]
  },
  {
   "cell_type": "code",
   "execution_count": 7,
   "metadata": {},
   "outputs": [],
   "source": [
    "# Compile shaders\n",
    "glCompileShader(vertex)\n",
    "if not glGetShaderiv(vertex, GL_COMPILE_STATUS):\n",
    "    error = glGetShaderInfoLog(vertex).decode()\n",
    "    print(error)\n",
    "    raise RuntimeError(\"Erro de compilacao do Vertex Shader\")"
   ]
  },
  {
   "cell_type": "code",
   "execution_count": 8,
   "metadata": {},
   "outputs": [],
   "source": [
    "glCompileShader(fragment)\n",
    "if not glGetShaderiv(fragment, GL_COMPILE_STATUS):\n",
    "    error = glGetShaderInfoLog(fragment).decode()\n",
    "    print(error)\n",
    "    raise RuntimeError(\"Erro de compilacao do Fragment Shader\")"
   ]
  },
  {
   "cell_type": "code",
   "execution_count": 9,
   "metadata": {},
   "outputs": [],
   "source": [
    "# Attach shader objects to the program\n",
    "glAttachShader(program, vertex)\n",
    "glAttachShader(program, fragment)"
   ]
  },
  {
   "cell_type": "code",
   "execution_count": 10,
   "metadata": {},
   "outputs": [],
   "source": [
    "# Build program\n",
    "glLinkProgram(program)\n",
    "if not glGetProgramiv(program, GL_LINK_STATUS):\n",
    "    print(glGetProgramInfoLog(program))\n",
    "    raise RuntimeError('Linking error')\n",
    "    \n",
    "# Make program the default program\n",
    "glUseProgram(program)"
   ]
  },
  {
   "attachments": {},
   "cell_type": "markdown",
   "metadata": {},
   "source": [
    "# 3. Preparação do cubo"
   ]
  },
  {
   "cell_type": "code",
   "execution_count": 11,
   "metadata": {},
   "outputs": [],
   "source": [
    "# Cubos individuais\n",
    "cubes = []\n",
    "offset = 0\n",
    "\n",
    "# Construção do cubo de offsets\n",
    "for face in range(6):\n",
    "    face = []\n",
    "    for row in range(3):\n",
    "        row = []\n",
    "        for cube in range(3):\n",
    "            row.append(offset)\n",
    "            offset = offset + 24\n",
    "        face.append(row)\n",
    "    cubes.append(face)\n",
    "\n",
    "# Objeto cubo\n",
    "cube = Cube(cubes)"
   ]
  },
  {
   "attachments": {},
   "cell_type": "markdown",
   "metadata": {},
   "source": [
    "## 3.1 Organização das faces do cubo"
   ]
  },
  {
   "cell_type": "code",
   "execution_count": 12,
   "metadata": {},
   "outputs": [],
   "source": [
    "vertices_list = []\n",
    "\n",
    "corner = get_corner_pieces()\n",
    "center = get_center_pieces()\n",
    "edge = get_edge_pieces()\n",
    "\n",
    "# Face Cima\n",
    "vertices_list.extend(corner[1])\n",
    "vertices_list.extend(edge[0][1])\n",
    "vertices_list.extend(corner[2])\n",
    "\n",
    "vertices_list.extend(edge[2][1])\n",
    "vertices_list.extend(center[4])\n",
    "vertices_list.extend(edge[2][2])\n",
    "\n",
    "vertices_list.extend(corner[5])\n",
    "vertices_list.extend(edge[0][2])\n",
    "vertices_list.extend(corner[6])\n",
    "\n",
    "# Face Frente\n",
    "vertices_list.extend(corner[1])\n",
    "vertices_list.extend(edge[0][1])\n",
    "vertices_list.extend(corner[2])\n",
    "\n",
    "vertices_list.extend(edge[1][0])\n",
    "vertices_list.extend(center[0])\n",
    "vertices_list.extend(edge[1][3])\n",
    "\n",
    "vertices_list.extend(corner[0])\n",
    "vertices_list.extend(edge[0][0])\n",
    "vertices_list.extend(corner[3])\n",
    "\n",
    "# Face Direita\n",
    "vertices_list.extend(corner[2])\n",
    "vertices_list.extend(edge[2][2])\n",
    "vertices_list.extend(corner[6])\n",
    "\n",
    "vertices_list.extend(edge[1][3])\n",
    "vertices_list.extend(center[3])\n",
    "vertices_list.extend(edge[1][2])\n",
    "\n",
    "vertices_list.extend(corner[3])\n",
    "vertices_list.extend(edge[2][3])\n",
    "vertices_list.extend(corner[7])\n",
    "\n",
    "# Face Trás\n",
    "vertices_list.extend(corner[5])\n",
    "vertices_list.extend(edge[0][2])\n",
    "vertices_list.extend(corner[6])\n",
    "\n",
    "vertices_list.extend(edge[1][1])\n",
    "vertices_list.extend(center[2])\n",
    "vertices_list.extend(edge[1][2])\n",
    "\n",
    "vertices_list.extend(corner[4])\n",
    "vertices_list.extend(edge[0][3])\n",
    "vertices_list.extend(corner[7])\n",
    "\n",
    "# Face Esquerda\n",
    "vertices_list.extend(corner[1])\n",
    "vertices_list.extend(edge[2][1])\n",
    "vertices_list.extend(corner[5])\n",
    "\n",
    "vertices_list.extend(edge[1][0])\n",
    "vertices_list.extend(center[1])\n",
    "vertices_list.extend(edge[1][1])\n",
    "\n",
    "vertices_list.extend(corner[0])\n",
    "vertices_list.extend(edge[2][0])\n",
    "vertices_list.extend(corner[4])\n",
    "\n",
    "# Face Baixo\n",
    "vertices_list.extend(corner[0])\n",
    "vertices_list.extend(edge[0][0])\n",
    "vertices_list.extend(corner[3])\n",
    "\n",
    "vertices_list.extend(edge[2][0])\n",
    "vertices_list.extend(center[5])\n",
    "vertices_list.extend(edge[2][3])\n",
    "\n",
    "vertices_list.extend(corner[4])\n",
    "vertices_list.extend(edge[0][3])\n",
    "vertices_list.extend(corner[7])"
   ]
  },
  {
   "cell_type": "code",
   "execution_count": 13,
   "metadata": {},
   "outputs": [],
   "source": [
    "# Construção do array\n",
    "total_vertices = len(vertices_list)\n",
    "vertices = np.zeros(total_vertices, [(\"position\", np.float32, 3)])\n",
    "vertices['position'] = np.array(vertices_list)"
   ]
  },
  {
   "attachments": {},
   "cell_type": "markdown",
   "metadata": {},
   "source": [
    "## 3.2 Transferência dos dados"
   ]
  },
  {
   "cell_type": "code",
   "execution_count": 14,
   "metadata": {},
   "outputs": [],
   "source": [
    "# Request a buffer slot from GPU\n",
    "buffer = glGenBuffers(1)\n",
    "# Make this buffer the default one\n",
    "glBindBuffer(GL_ARRAY_BUFFER, buffer)"
   ]
  },
  {
   "cell_type": "code",
   "execution_count": 15,
   "metadata": {},
   "outputs": [],
   "source": [
    "# Upload data\n",
    "glBufferData(GL_ARRAY_BUFFER, vertices.nbytes, vertices, GL_DYNAMIC_DRAW)\n",
    "glBindBuffer(GL_ARRAY_BUFFER, buffer)"
   ]
  },
  {
   "cell_type": "code",
   "execution_count": 16,
   "metadata": {},
   "outputs": [],
   "source": [
    "# Bind the position attribute\n",
    "stride = vertices.strides[0]\n",
    "offset = ctypes.c_void_p(0)"
   ]
  },
  {
   "cell_type": "code",
   "execution_count": 17,
   "metadata": {},
   "outputs": [],
   "source": [
    "loc = glGetAttribLocation(program, \"position\")\n",
    "glEnableVertexAttribArray(loc)"
   ]
  },
  {
   "cell_type": "code",
   "execution_count": 18,
   "metadata": {},
   "outputs": [],
   "source": [
    "glVertexAttribPointer(loc, 3, GL_FLOAT, False, stride, offset)"
   ]
  },
  {
   "cell_type": "code",
   "execution_count": 19,
   "metadata": {},
   "outputs": [],
   "source": [
    "loc_color = glGetUniformLocation(program, \"color\")"
   ]
  },
  {
   "attachments": {},
   "cell_type": "markdown",
   "metadata": {},
   "source": [
    "# 4. Preparação para o loop"
   ]
  },
  {
   "cell_type": "code",
   "execution_count": 20,
   "metadata": {},
   "outputs": [],
   "source": [
    "# Exibição da janela\n",
    "glfw.show_window(window)"
   ]
  },
  {
   "attachments": {},
   "cell_type": "markdown",
   "metadata": {},
   "source": [
    "## 4.1 Utilitários para desenhar as faces pintadas"
   ]
  },
  {
   "cell_type": "code",
   "execution_count": 21,
   "metadata": {},
   "outputs": [],
   "source": [
    "def draw_cubes(move, before_move=False):\n",
    "    draw = []\n",
    "\n",
    "    i = 0\n",
    "    for color, surface in zip(get_cube_colors(), cube.cubes):\n",
    "        for rows in surface:\n",
    "            for cub in rows:\n",
    "                if ((cub not in move) if before_move else (cub in move)):\n",
    "                    if (i == 0):\n",
    "                        glUniform4f(loc_color, color[0], color[1], color[2], 1)\n",
    "                        glDrawArrays(GL_TRIANGLE_STRIP, cub + 20, 4)\n",
    "                        draw.append((cub, 20))\n",
    "\n",
    "                    elif (i == 1):\n",
    "                        glUniform4f(loc_color, color[0], color[1], color[2], 1)\n",
    "                        glDrawArrays(GL_TRIANGLE_STRIP, cub, 4)\n",
    "                        draw.append((cub, 0))\n",
    "\n",
    "                    elif (i == 2):\n",
    "                        glUniform4f(loc_color, color[0], color[1], color[2], 1)\n",
    "                        glDrawArrays(GL_TRIANGLE_STRIP, cub + 12, 4)\n",
    "                        draw.append((cub, 12))\n",
    "\n",
    "                    elif (i == 3):\n",
    "                        glUniform4f(loc_color, color[0], color[1], color[2], 1)\n",
    "                        glDrawArrays(GL_TRIANGLE_STRIP, cub + 8, 4)\n",
    "                        draw.append((cub, 8))\n",
    "\n",
    "                    elif (i == 4):\n",
    "                        glUniform4f(loc_color, color[0], color[1], color[2], 1)\n",
    "                        glDrawArrays(GL_TRIANGLE_STRIP, cub + 4, 4)\n",
    "                        draw.append((cub, 4))\n",
    "\n",
    "                    elif (i == 5):\n",
    "                        glUniform4f(loc_color, color[0], color[1], color[2], 1)\n",
    "                        glDrawArrays(GL_TRIANGLE_STRIP, cub + 16, 4)\n",
    "                        draw.append((cub, 16))\n",
    "        i = i + 1\n",
    "\n",
    "    return draw\n"
   ]
  },
  {
   "attachments": {},
   "cell_type": "markdown",
   "metadata": {},
   "source": [
    "## 4.2 Utilitário para as faces não pintadas"
   ]
  },
  {
   "cell_type": "code",
   "execution_count": 22,
   "metadata": {},
   "outputs": [],
   "source": [
    "def draw_blacks(move, draw, before_move=False):\n",
    "    for surface in cube.cubes:\n",
    "        for rows in surface:\n",
    "            for cub in rows:\n",
    "                for offset in [0, 4, 8, 12, 16, 20]:\n",
    "                    if ((cub not in move) if before_move else (cub in move)) and (cub, offset) not in draw:\n",
    "                        glUniform4f(loc_color, 0, 0, 0, 1)\n",
    "                        glDrawArrays(GL_TRIANGLE_STRIP, cub + offset, 4)\n"
   ]
  },
  {
   "attachments": {},
   "cell_type": "markdown",
   "metadata": {},
   "source": [
    "# 5. Programa"
   ]
  },
  {
   "attachments": {},
   "cell_type": "markdown",
   "metadata": {},
   "source": [
    "## 5.1 Matrizes de transformação"
   ]
  },
  {
   "cell_type": "code",
   "execution_count": 23,
   "metadata": {},
   "outputs": [],
   "source": [
    "# TODO\n",
    "\n",
    "def get_static():\n",
    "    return np.array([1,     0.0,    0,      0.0,\n",
    "                     0.0,   1.0,    0.0,    0.0,\n",
    "                     0,     0.0,    1,      0.0,\n",
    "                     0.0,   0.0,    0.0,    1.0],\n",
    "                    np.float32)\n",
    "\n",
    "\n",
    "def get_rotate_z(d):\n",
    "    return np.array([1.0,   0.0,        0.0,        0.0,\n",
    "                     0.0,   np.cos(d),  -np.sin(d), 0.0,\n",
    "                     0.0,   np.sin(d),  np.cos(d),  0.0,\n",
    "                     0.0,   0.0,        0.0,        1.0],\n",
    "                    np.float32)\n",
    "\n",
    "\n",
    "def get_rotate_x(d):\n",
    "    return np.array([1.0,   0.0,        0.0,        0.0,\n",
    "                     0.0,   np.cos(d),  -np.sin(d), 0.0,\n",
    "                     0.0,   np.sin(d),  np.cos(d),  0.0,\n",
    "                     0.0,   0.0,        0.0,        1.0],\n",
    "                    np.float32)\n",
    "\n",
    "\n",
    "def get_rotate_y(d):\n",
    "    return np.array([np.cos(d),     0.0,    np.sin(d),  0.0,\n",
    "                     0.0,           1.0,    0.0,        0.0,\n",
    "                     -np.sin(d),    0.0,    np.cos(d),  0.0,\n",
    "                     0.0,           0.0,    0.0,        1.0],\n",
    "                    np.float32)\n"
   ]
  },
  {
   "attachments": {},
   "cell_type": "markdown",
   "metadata": {},
   "source": [
    "## 5.2 Loop principal"
   ]
  },
  {
   "cell_type": "code",
   "execution_count": 24,
   "metadata": {},
   "outputs": [],
   "source": [
    "from numpy import random\n",
    "import math\n",
    "d = 0.0\n",
    "glEnable(GL_DEPTH_TEST)  # importante para 3D\n",
    "\n",
    "while not glfw.window_should_close(window):\n",
    "\n",
    "    glfw.poll_events()\n",
    "    d -= 0.005\n",
    "\n",
    "    glClear(GL_COLOR_BUFFER_BIT | GL_DEPTH_BUFFER_BIT)\n",
    "    glClearColor(0.1, 0.1, 0.1, 1.0)\n",
    "\n",
    "    loc = glGetUniformLocation(program, \"mat_transformation\")\n",
    "    \n",
    "    # Conjunto a ser movido\n",
    "    move = cube.get_surface_cubes('all')\n",
    "\n",
    "    draw = []\n",
    "\n",
    "    # Conjunto antes - afetado apenas por get_static (fora de move)\n",
    "    glUniformMatrix4fv(loc, 1, GL_TRUE, get_static())\n",
    "    draw.extend(draw_cubes(move, True))\n",
    "    draw_blacks(move, draw, True)\n",
    "\n",
    "    # Conjunto depois - afetado apenas por get_rotate_y (fora de move)\n",
    "    glUniformMatrix4fv(loc, 1, GL_TRUE, get_rotate_y(d))\n",
    "    draw.extend(draw_cubes(move, False))\n",
    "    draw_blacks(move, draw, False)\n",
    "\n",
    "    glfw.swap_buffers(window)\n",
    "\n",
    "glfw.terminate()"
   ]
  }
 ],
 "metadata": {
  "finalized": {
   "timestamp": 1583114796072,
   "trusted": true
  },
  "kernelspec": {
   "display_name": "Python 3 (ipykernel)",
   "language": "python",
   "name": "python3"
  },
  "language_info": {
   "codemirror_mode": {
    "name": "ipython",
    "version": 3
   },
   "file_extension": ".py",
   "mimetype": "text/x-python",
   "name": "python",
   "nbconvert_exporter": "python",
   "pygments_lexer": "ipython3",
   "version": "3.9.7"
  }
 },
 "nbformat": 4,
 "nbformat_minor": 2
}
